{
 "cells": [
  {
   "cell_type": "code",
   "execution_count": 1,
   "metadata": {},
   "outputs": [
    {
     "name": "stderr",
     "output_type": "stream",
     "text": [
      "c:\\Users\\sotod\\AppData\\Local\\Programs\\Python\\Python39\\lib\\site-packages\\fuzzywuzzy\\fuzz.py:11: UserWarning: Using slow pure-python SequenceMatcher. Install python-Levenshtein to remove this warning\n",
      "  warnings.warn('Using slow pure-python SequenceMatcher. Install python-Levenshtein to remove this warning')\n"
     ]
    }
   ],
   "source": [
    "import pandas as pd\n",
    "import requests\n",
    "from fuzzywuzzy import fuzz\n",
    "import os\n",
    "from io import StringIO"
   ]
  },
  {
   "cell_type": "code",
   "execution_count": null,
   "metadata": {},
   "outputs": [],
   "source": [
    "if not os.path.exists(\"new-data\"):\n",
    "    os.makedirs(\"new-data\")"
   ]
  },
  {
   "cell_type": "code",
   "execution_count": 2,
   "metadata": {},
   "outputs": [],
   "source": [
    "def create_team_map(team_name):\n",
    "    \"\"\"\n",
    "    Creates the team_id map for each team_name, team_id will be used for foreign key for our Data Tables\n",
    "    \"\"\"\n",
    "    if team_name in team_id_mapping:\n",
    "        return team_id_mapping[team_name]\n",
    "    else:\n",
    "        new_id = len(team_id_mapping) + 1  # Generate a new unique ID\n",
    "        team_id_mapping[team_name] = new_id\n",
    "        return new_id\n",
    "\n",
    "def map_team_name(input_name, team_dict):\n",
    "    \"\"\"\n",
    "    Since we have a variety of ways of menioning the same team Ex. Man City -> Manchester City\n",
    "    we take a input_name and return the team_id to the closest similar name using a third party library.\n",
    "    \"\"\"\n",
    "\n",
    "    best_match = None\n",
    "    best_match_score = -1\n",
    "\n",
    "    for team_name, team_id in team_dict.items():\n",
    "        similarity_score = fuzz.ratio(input_name, team_name)\n",
    "        \n",
    "        if similarity_score > best_match_score:\n",
    "            best_match_score = similarity_score\n",
    "            best_match = team_id\n",
    "\n",
    "    return best_match"
   ]
  },
  {
   "cell_type": "code",
   "execution_count": 4,
   "metadata": {},
   "outputs": [],
   "source": [
    "\"\"\"\n",
    "Creates the data frames using pandas by either web scraping or reading csv files for our players and squad data\n",
    "\"\"\"\n",
    "squad_season_stats = []   # Squad stats for multiple seasons\n",
    "match_stats_df = []        # match result data for multiple seasons\n",
    "\n",
    "for year, val in season_map.items():\n",
    "\n",
    "    # squad season statistics web scraping and data cleaning...\n",
    "\n",
    "    url = f\"https://fbref.com/en/comps/9/{year}/{year}-Premier-League-Stats\"\n",
    "\n",
    "    fbref_html = requests.get(url)\n",
    "\n",
    "    fbref_buffer = StringIO(fbref_html.text)\n",
    "    \n",
    "    squad_stats_df = pd.read_html(fbref_buffer, match=\"Squad Standard Stats\")[0]\n",
    "    squad_stats_df.columns = squad_stats_df.columns.droplevel()\n",
    "    squad_stats_df = squad_stats_df.loc[:, :\"PrgP\"]\n",
    "\n",
    "    \n",
    "    squad_stats_df = squad_stats_df.rename(columns={\"# Pl\": \"players_used\"})\n",
    "    squad_stats_df.columns = squad_stats_df.columns.str.lower()\n",
    "    squad_stats_df[\"team_id\"] = squad_stats_df[\"squad\"].apply(create_team_map)\n",
    "    squad_stats_df[\"season_id\"] = val\n",
    "    \n",
    "    squad_stats_to_drop = [\"starts\", \"min\", \"90s\", \"pkatt\", \"crdy\", \"crdr\", \"npxg\", \"npxg+xag\", \"squad\"]\n",
    "    squad_stats_df = squad_stats_df.drop(columns=squad_stats_to_drop)\n",
    "    \n",
    "    squad_season_stats.append(squad_stats_df)\n",
    "\n",
    "\n",
    "    # matches statistics data cleaning...\n",
    "\n",
    "    match_stats_path = os.path.join(\".\", \"data\", f\"pl-{year}.csv\")\n",
    "\n",
    "    match_stats = pd.read_csv(match_stats_path)\n",
    "    match_stats = match_stats.loc[:, :\"B365A\"]\n",
    "\n",
    "    columns_to_drop = [\"Div\", \"HTHG\", \"HTAG\", \"HTR\", \"Referee\", \"HF\", \"AF\", \"HY\", \"AY\", \"HR\", \"AR\"]\n",
    "    match_stats = match_stats.drop(columns=columns_to_drop)\n",
    "    match_stats.columns = match_stats.columns.str.lower()\n",
    "    match_stats = match_stats.rename(columns={\"hometeam\": \"home_team_id\", \"awayteam\": \"away_team_id\"})\n",
    "\n",
    "    match_stats[\"season_id\"] = val\n",
    "    match_stats[\"home_team_id\"] = match_stats[\"home_team_id\"].apply(lambda x: map_team_name(x, team_id_mapping))\n",
    "    match_stats[\"away_team_id\"] = match_stats[\"away_team_id\"].apply(lambda x: map_team_name(x, team_id_mapping))\n",
    "\n",
    "    match_stats_df.append(match_stats)"
   ]
  },
  {
   "cell_type": "code",
   "execution_count": 6,
   "metadata": {},
   "outputs": [],
   "source": [
    "squad_season_stats = pd.concat(squad_season_stats, ignore_index=True)\n",
    "squad_season_stats.to_csv(\"./new-data/squad_stats.csv\", index=False)"
   ]
  },
  {
   "cell_type": "code",
   "execution_count": 8,
   "metadata": {},
   "outputs": [],
   "source": [
    "match_stats_df = pd.concat(match_stats_df, ignore_index=True)\n",
    "match_stats_df = match_stats_df.reset_index()\n",
    "match_stats_df.rename(columns={\"index\": \"match_id\"}, inplace=True)\n",
    "match_stats_df.to_csv(\"./new-data/match_results.csv\", index=False)"
   ]
  },
  {
   "cell_type": "code",
   "execution_count": 10,
   "metadata": {},
   "outputs": [],
   "source": [
    "# season map to csv file\n",
    "\n",
    "seasons_df = pd.DataFrame.from_dict(season_map, orient='index', columns=[\"season_id\"])\n",
    "seasons_df.reset_index(inplace=True)\n",
    "seasons_df.rename(columns={\"index\": \"season\"}, inplace=True)\n",
    "seasons_df.to_csv(\"./new-data/seasons.csv\", index=False)"
   ]
  },
  {
   "cell_type": "code",
   "execution_count": 11,
   "metadata": {},
   "outputs": [],
   "source": [
    "# team_id map to csv file\n",
    "\n",
    "teams_df = pd.DataFrame.from_dict(team_id_mapping, orient='index', columns=[\"team_id\"])\n",
    "teams_df.reset_index(inplace=True)\n",
    "teams_df.rename(columns={\"index\": \"team_name\"}, inplace=True)\n",
    "teams_df.to_csv(\"./new-data/teams.csv\", index=False)"
   ]
  },
  {
   "cell_type": "code",
   "execution_count": 24,
   "metadata": {},
   "outputs": [],
   "source": [
    "# Premier League Fantasy data cleaning\n",
    "players_path = os.path.join(\".\", \"data\", \"pl-players.csv\")\n",
    "\n",
    "players_df = pd.read_csv(players_path)\n",
    "columns_to_drop = [\n",
    "    \"id\", \"now_cost\", \"clean_sheets_per_90\", \"threat_rank_type\",\n",
    "    \"expected_assists_per_90\", \"points_per_game_rank\", \"creativity_rank_type\",\n",
    "    \"transfers_out\", \"value_form\", \"direct_freekicks_order\", \"value_season\",\n",
    "    \"bonus\", \"starts_per_90\", \"cost_change_start\", \"news_added\", \"cost_change_start_fall\",\n",
    "    \"expected_goals_conceded_per_90\", \"red_cards\", \"selected_rank_type\", \"penalties_saved\", \"corners_and_indirect_freekicks_order\",\n",
    "    \"ep_next\", \"event_points\", \"web_name\", \"ict_index_rank\", \"saves_per_90\", \"creativity_rank\", \"own_goals\", \"status\", \"now_cost_rank_type\",\n",
    "    \"yellow_cards\", \"news\", \"expected_goal_involvements_per_90\", \"form_rank_type\", \"ict_index_rank_type\", \"chance_of_playing_next_round\",\n",
    "    \"influence_rank\", \"penalties_order\", \"form\", \"dreamteam_count\", \"chance_of_playing_this_round\", \"points_per_game\", \n",
    "    \"in_dreamteam\", \"form_rank\", \"selected_rank\", \"expected_goals_per_90\", \"threat_rank\", \"ep_this\", \"transfers_in\",\n",
    "    \"bps\", \"goals_conceded_per_90\", \"selected_by_percent\", \"influence_rank_type\", \"points_per_game_rank_type\", \"now_cost_rank\", \"penalties_missed\"]\n",
    "players_df = players_df.drop(columns=columns_to_drop)\n",
    "\n",
    "players_df = players_df.rename(columns={\"team\": \"team_id\"})\n",
    "players_df.reset_index(inplace=True)\n",
    "players_df.rename(columns={\"index\": \"player_id\", \"name\": \"player_name\", \"position\": \"player_position\"}, inplace=True)\n",
    "players_df[\"team_id\"] = players_df[\"team_id\"].apply(lambda x: map_team_name(x, team_id_mapping))"
   ]
  },
  {
   "cell_type": "code",
   "execution_count": 25,
   "metadata": {},
   "outputs": [],
   "source": [
    "players_df.to_csv(\"./new-data/players.csv\", index=False)"
   ]
  }
 ],
 "metadata": {
  "kernelspec": {
   "display_name": "Python 3",
   "language": "python",
   "name": "python3"
  },
  "language_info": {
   "codemirror_mode": {
    "name": "ipython",
    "version": 3
   },
   "file_extension": ".py",
   "mimetype": "text/x-python",
   "name": "python",
   "nbconvert_exporter": "python",
   "pygments_lexer": "ipython3",
   "version": "3.9.1"
  },
  "orig_nbformat": 4
 },
 "nbformat": 4,
 "nbformat_minor": 2
}
